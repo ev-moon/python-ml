{
 "cells": [
  {
   "cell_type": "code",
   "execution_count": 1,
   "metadata": {},
   "outputs": [],
   "source": [
    "import numpy as np"
   ]
  },
  {
   "cell_type": "code",
   "execution_count": 6,
   "metadata": {},
   "outputs": [
    {
     "name": "stdout",
     "output_type": "stream",
     "text": [
      "<class 'numpy.ndarray'>\n",
      "(3,)\n",
      "(2, 3)\n",
      "(1, 3)\n"
     ]
    }
   ],
   "source": [
    "# create 1D numpy array\n",
    "arr1 = np.array([1, 2, 3])\n",
    "print(type(arr1))\n",
    "print(arr1.shape)  # get array dimensions\n",
    "\n",
    "# create 2D numpy array\n",
    "arr2 = np.array([[1, 2, 3], [2, 3, 4]])\n",
    "print(arr2.shape)\n",
    "\n",
    "arr3 = np.array([[1, 2, 3]])\n",
    "print(arr3.shape)"
   ]
  },
  {
   "cell_type": "code",
   "execution_count": 7,
   "metadata": {},
   "outputs": [
    {
     "name": "stdout",
     "output_type": "stream",
     "text": [
      "arr1 has 1 dimensions\n",
      "arr2 has 2 dimensions\n"
     ]
    }
   ],
   "source": [
    "print(f\"arr1 has {arr1.ndim} dimensions\")  # get number of array dimensions\n",
    "print(f\"arr2 has {arr2.ndim} dimensions\")"
   ]
  },
  {
   "cell_type": "code",
   "execution_count": 9,
   "metadata": {},
   "outputs": [
    {
     "name": "stdout",
     "output_type": "stream",
     "text": [
      "[1 2 3] has data type int64\n",
      "['1' '2' 'test'] has data type <U21\n",
      "[1. 2. 3.] has data type float64\n"
     ]
    }
   ],
   "source": [
    "# ndarray can only have one data type.\n",
    "# Mixed data types will be casted to the larger data type.\n",
    "\n",
    "arr1 = np.array([1, 2, 3])\n",
    "print(f\"{arr1} has data type {arr1.dtype}\")\n",
    "\n",
    "arr2 = np.array([1, 2, \"test\"])\n",
    "print(f\"{arr2} has data type {arr2.dtype}\")\n",
    "\n",
    "arr3 = np.array([1, 2, 3.0])\n",
    "print(f\"{arr3} has data type {arr3.dtype}\")"
   ]
  },
  {
   "cell_type": "code",
   "execution_count": 12,
   "metadata": {},
   "outputs": [
    {
     "name": "stdout",
     "output_type": "stream",
     "text": [
      "[1. 2. 3.] float64\n",
      "[1 2 3] int32\n",
      "[1 2 3] int32\n"
     ]
    }
   ],
   "source": [
    "# Type conversions\n",
    "array_int = np.array([1, 2, 3])\n",
    "array_float = array_int.astype(\"float64\")\n",
    "print(array_float, array_float.dtype)\n",
    "\n",
    "array_int1 = array_float.astype(\"int32\")\n",
    "print(array_int1, array_int1.dtype)\n",
    "\n",
    "array_float1 = np.array([1.1, 2.1, 3.1])\n",
    "array_int2 = array_float1.astype(\"int32\")\n",
    "print(array_int2, array_int2.dtype)"
   ]
  },
  {
   "cell_type": "code",
   "execution_count": 13,
   "metadata": {},
   "outputs": [
    {
     "name": "stdout",
     "output_type": "stream",
     "text": [
      "[0 1 2 3 4 5 6 7 8 9]\n",
      "int64 (10,)\n"
     ]
    }
   ],
   "source": [
    "sequence_array = np.arange(10)  # similar to python range()\n",
    "print(sequence_array)\n",
    "print(sequence_array.dtype, sequence_array.shape)"
   ]
  },
  {
   "cell_type": "code",
   "execution_count": 14,
   "metadata": {},
   "outputs": [
    {
     "name": "stdout",
     "output_type": "stream",
     "text": [
      "[[0 0]\n",
      " [0 0]\n",
      " [0 0]]\n",
      "int32 (3, 2)\n",
      "[[1. 1.]\n",
      " [1. 1.]\n",
      " [1. 1.]]\n",
      "float64 (3, 2)\n"
     ]
    }
   ],
   "source": [
    "# zeros() and ones()\n",
    "\n",
    "zero_array = np.zeros((3, 2), dtype=\"int32\")\n",
    "print(zero_array)\n",
    "print(zero_array.dtype, zero_array.shape)\n",
    "\n",
    "one_array = np.ones((3, 2))  # defaults as float type\n",
    "print(one_array)\n",
    "print(one_array.dtype, one_array.shape)"
   ]
  },
  {
   "cell_type": "code",
   "execution_count": 15,
   "metadata": {},
   "outputs": [
    {
     "name": "stdout",
     "output_type": "stream",
     "text": [
      "array1:\n",
      " [0 1 2 3 4 5 6 7 8 9]\n",
      "array2:\n",
      " [[0 1 2 3 4]\n",
      " [5 6 7 8 9]]\n",
      "array3:\n",
      " [[0 1]\n",
      " [2 3]\n",
      " [4 5]\n",
      " [6 7]\n",
      " [8 9]]\n"
     ]
    }
   ],
   "source": [
    "# reshape()\n",
    "\n",
    "array1 = np.arange(10)\n",
    "print(\"array1:\\n\", array1)\n",
    "\n",
    "array2 = array1.reshape(2, 5)\n",
    "print(\"array2:\\n\", array2)\n",
    "\n",
    "array3 = array1.reshape(5, 2)\n",
    "print(\"array3:\\n\", array3)"
   ]
  },
  {
   "cell_type": "code",
   "execution_count": 16,
   "metadata": {},
   "outputs": [
    {
     "name": "stdout",
     "output_type": "stream",
     "text": [
      "array2 shape: (2, 5)\n",
      "array3 shape: (5, 2)\n"
     ]
    }
   ],
   "source": [
    "# reshape() with dimension inference\n",
    "\n",
    "array1 = np.arange(10)\n",
    "array2 = array1.reshape(-1, 5)\n",
    "print(f\"array2 shape: {array2.shape}\")\n",
    "array3 = array1.reshape(5, -1)\n",
    "print(f\"array3 shape: {array3.shape}\")"
   ]
  },
  {
   "cell_type": "code",
   "execution_count": 22,
   "metadata": {},
   "outputs": [
    {
     "data": {
      "text/plain": [
       "array([[ 9, 10, 11],\n",
       "       [12, 13, 14],\n",
       "       [15, 16, 17]])"
      ]
     },
     "execution_count": 22,
     "metadata": {},
     "output_type": "execute_result"
    }
   ],
   "source": [
    "arr1 = np.arange(27)\n",
    "arr1 = arr1.reshape(3, 3, 3)\n",
    "arr1[1, :, :]"
   ]
  },
  {
   "cell_type": "code",
   "execution_count": 23,
   "metadata": {},
   "outputs": [
    {
     "name": "stdout",
     "output_type": "stream",
     "text": [
      "[6 7 8 9]\n"
     ]
    }
   ],
   "source": [
    "# Boolean Indexing\n",
    "array1d = np.arange(start=1, stop=10)\n",
    "array3 = array1d[array1d > 5]\n",
    "print(array3)"
   ]
  },
  {
   "cell_type": "code",
   "execution_count": 24,
   "metadata": {},
   "outputs": [
    {
     "name": "stdout",
     "output_type": "stream",
     "text": [
      "Original array: [3 1 9 5]\n",
      "Sorted array after np.sort(): [1 3 5 9]\n",
      "Sort in descending order: [9 5 3 1]\n"
     ]
    }
   ],
   "source": [
    "# Sorting\n",
    "\n",
    "org_array = np.array([3, 1, 9, 5])\n",
    "print(f\"Original array: {org_array}\")\n",
    "sort_array1 = np.sort(org_array)\n",
    "print(f\"Sorted array after np.sort(): {sort_array1}\")\n",
    "\n",
    "# Sort in descending order\n",
    "sort_array1_desc = np.sort(org_array)[::-1]\n",
    "print(f\"Sort in descending order: {sort_array1_desc}\")"
   ]
  },
  {
   "cell_type": "code",
   "execution_count": 25,
   "metadata": {},
   "outputs": [
    {
     "name": "stdout",
     "output_type": "stream",
     "text": [
      "Indices of sorted array: [1 0 3 2]\n"
     ]
    }
   ],
   "source": [
    "org_array = np.array([3, 1, 9, 5])\n",
    "sort_indices = np.argsort(org_array)\n",
    "print(f\"Indices of sorted array: {sort_indices}\")"
   ]
  },
  {
   "cell_type": "code",
   "execution_count": 28,
   "metadata": {},
   "outputs": [
    {
     "name": "stdout",
     "output_type": "stream",
     "text": [
      "dot product of A and B:\n",
      "[[ 58  64]\n",
      " [139 154]]\n",
      "transpose of A:\n",
      "[[1 3]\n",
      " [2 4]]\n"
     ]
    }
   ],
   "source": [
    "# dot() and transpose()\n",
    "\n",
    "A = np.array([[1, 2, 3], [4, 5, 6]])\n",
    "B = np.array([[7, 8], [9, 10], [11, 12]])\n",
    "print(f\"dot product of A and B:\\n{np.dot(A,B)}\")\n",
    "\n",
    "A = np.array([[1, 2], [3, 4]])\n",
    "print(f\"transpose of A:\\n{np.transpose(A)}\")"
   ]
  },
  {
   "cell_type": "code",
   "execution_count": null,
   "metadata": {},
   "outputs": [],
   "source": []
  }
 ],
 "metadata": {
  "kernelspec": {
   "display_name": "cse258_env",
   "language": "python",
   "name": "python3"
  },
  "language_info": {
   "codemirror_mode": {
    "name": "ipython",
    "version": 3
   },
   "file_extension": ".py",
   "mimetype": "text/x-python",
   "name": "python",
   "nbconvert_exporter": "python",
   "pygments_lexer": "ipython3",
   "version": "3.8.0"
  }
 },
 "nbformat": 4,
 "nbformat_minor": 2
}
